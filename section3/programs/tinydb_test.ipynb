{
 "cells": [
  {
   "cell_type": "markdown",
   "metadata": {},
   "source": [
    "# TinyDB"
   ]
  },
  {
   "cell_type": "code",
   "execution_count": 2,
   "metadata": {
    "collapsed": false
   },
   "outputs": [
    {
     "name": "stdout",
     "output_type": "stream",
     "text": [
      "[{'name': 'Banana', 'price': 600}, {'name': 'Orange', 'price': 1200}, {'name': 'Mango', 'price': 840}]\n",
      "Orange is  1200\n",
      "800円以上のもの:\n",
      "- Orange\n",
      "- Mango\n"
     ]
    }
   ],
   "source": [
    "# TinyDBを使うためライブラリのインポート\n",
    "from tinydb import TinyDB, Query\n",
    "\n",
    "# データベースに接続 --- (※1)\n",
    "filepath = \"test-tynydb.json\"\n",
    "db = TinyDB(filepath)\n",
    "\n",
    "# 既存のデータがあれば破棄 --- (※2)\n",
    "db.purge_table('fruits')\n",
    "\n",
    "# テーブルを得る --- (※3)\n",
    "table = db.table('fruits')\n",
    "\n",
    "# データをデータベースに挿入 --- (※4)\n",
    "table.insert( {'name': 'Banana', 'price': 600} )\n",
    "table.insert( {'name': 'Orange', 'price': 1200} )\n",
    "table.insert( {'name': 'Mango', 'price': 840} )\n",
    "\n",
    "# 全データを抽出して表示 --- (※5)\n",
    "print(table.all())\n",
    "\n",
    "# 特定のデータを抽出して表示\n",
    "# Orangeを検索 --- (※6)\n",
    "Item = Query()\n",
    "res = table.search(Item.name == 'Orange')\n",
    "print('Orange is ', res[0]['price'])\n",
    "\n",
    "# 値段が800円以上のものを抽出 --- (※7)\n",
    "print(\"800円以上のもの:\")\n",
    "res = table.search(Item.price >= 800)\n",
    "for it in res:\n",
    "    print(\"-\", it['name'])\n",
    "\n"
   ]
  },
  {
   "cell_type": "code",
   "execution_count": null,
   "metadata": {
    "collapsed": true
   },
   "outputs": [],
   "source": []
  }
 ],
 "metadata": {
  "kernelspec": {
   "display_name": "Python 3",
   "language": "python",
   "name": "python3"
  },
  "language_info": {
   "codemirror_mode": {
    "name": "ipython",
    "version": 3
   },
   "file_extension": ".py",
   "mimetype": "text/x-python",
   "name": "python",
   "nbconvert_exporter": "python",
   "pygments_lexer": "ipython3",
   "version": "3.6.0"
  }
 },
 "nbformat": 4,
 "nbformat_minor": 2
}
