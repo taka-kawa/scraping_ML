{
 "cells": [
  {
   "cell_type": "markdown",
   "metadata": {},
   "source": [
    "# 人口のトータルを書き込む\n",
    "\n",
    "C49に人口のトータルを書き込む"
   ]
  },
  {
   "cell_type": "code",
   "execution_count": 1,
   "metadata": {
    "collapsed": false
   },
   "outputs": [
    {
     "name": "stdout",
     "output_type": "stream",
     "text": [
      "total= 128057352\n",
      "ok\n"
     ]
    },
    {
     "name": "stderr",
     "output_type": "stream",
     "text": [
      "/Users/kawashimatakashi/.pyenv/versions/anaconda3-4.3.1/lib/python3.6/site-packages/openpyxl/reader/worksheet.py:307: UserWarning: Unknown extension is not supported and will be removed\n",
      "  warn(msg)\n"
     ]
    }
   ],
   "source": [
    "import openpyxl \n",
    "\n",
    "# Excelファイルを開く --- (※1)\n",
    "filename = \"population.xlsx\"\n",
    "book = openpyxl.load_workbook(filename)\n",
    "\n",
    "# アクティブになっているシートを得る --- (※2)\n",
    "sheet = book.active\n",
    "\n",
    "# 人口のトータルを計算する --- (※3)\n",
    "total = 0\n",
    "for i, row in enumerate(sheet.rows):\n",
    "    if i == 0: continue # 先頭はヘッダ\n",
    "    po = int(row[2].value)\n",
    "    total += po\n",
    "print(\"total=\", total)\n",
    "\n",
    "# 書き込む --- (※4)\n",
    "sheet['A49'] = \"Total\"\n",
    "sheet['C49'] = total\n",
    "\n",
    "# フォントなどの設定を変更する --- (※5)\n",
    "c = sheet['C49']\n",
    "c.font = openpyxl.styles.Font(size=14,color=\"FF0000\")\n",
    "c.number_format = sheet['C48'].number_format\n",
    "\n",
    "# 書き込んだ内容をファイルへ保存 --- (※6)\n",
    "filename = \"population-total.xlsx\"\n",
    "book.save(filename)\n",
    "print(\"ok\")\n",
    "\n"
   ]
  },
  {
   "cell_type": "code",
   "execution_count": null,
   "metadata": {
    "collapsed": true
   },
   "outputs": [],
   "source": []
  }
 ],
 "metadata": {
  "kernelspec": {
   "display_name": "Python 3",
   "language": "python",
   "name": "python3"
  },
  "language_info": {
   "codemirror_mode": {
    "name": "ipython",
    "version": 3
   },
   "file_extension": ".py",
   "mimetype": "text/x-python",
   "name": "python",
   "nbconvert_exporter": "python",
   "pygments_lexer": "ipython3",
   "version": "3.6.0"
  }
 },
 "nbformat": 4,
 "nbformat_minor": 2
}
