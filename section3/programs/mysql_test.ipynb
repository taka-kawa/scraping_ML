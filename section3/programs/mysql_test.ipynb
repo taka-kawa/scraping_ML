{
 "cells": [
  {
   "cell_type": "markdown",
   "metadata": {},
   "source": [
    "# MySQL"
   ]
  },
  {
   "cell_type": "code",
   "execution_count": 5,
   "metadata": {
    "collapsed": false
   },
   "outputs": [
    {
     "name": "stdout",
     "output_type": "stream",
     "text": [
      "(1, 'Banana', 300)\n",
      "(2, 'Mango', 640)\n",
      "(3, 'Kiwi', 280)\n"
     ]
    }
   ],
   "source": [
    "# ライブラリのインポート --- (※1)\n",
    "import MySQLdb\n",
    "\n",
    "# MySQLに接続する --- (※2)\n",
    "conn = MySQLdb.connect(\n",
    "    user='root',\n",
    "    passwd='',\n",
    "    host='localhost',\n",
    "    db='test')\n",
    "\n",
    "# カーソルを取得する --- (※3)\n",
    "cur = conn.cursor()\n",
    "\n",
    "# テーブルを作成する --- (※4)\n",
    "cur.execute('DROP TABLE items') # テーブル削除\n",
    "cur.execute('''\n",
    "    CREATE TABLE items (\n",
    "        item_id INTEGER PRIMARY KEY AUTO_INCREMENT,\n",
    "        name TEXT,\n",
    "        price INTEGER\n",
    "    )\n",
    "    ''')\n",
    "\n",
    "# データを挿入する --- (※5)\n",
    "data = [('Banana', 300),('Mango', 640), ('Kiwi', 280)]\n",
    "for i in data:\n",
    "    cur.execute(\"INSERT INTO items(name,price) VALUES(%s,%s)\", i)\n",
    "\n",
    "# データを抽出する --- (※6)\n",
    "cur.execute(\"SELECT * FROM items\")\n",
    "for row in cur.fetchall():\n",
    "    print(row)\n",
    "\n"
   ]
  },
  {
   "cell_type": "code",
   "execution_count": null,
   "metadata": {
    "collapsed": true
   },
   "outputs": [],
   "source": []
  }
 ],
 "metadata": {
  "kernelspec": {
   "display_name": "Python 3",
   "language": "python",
   "name": "python3"
  },
  "language_info": {
   "codemirror_mode": {
    "name": "ipython",
    "version": 3
   },
   "file_extension": ".py",
   "mimetype": "text/x-python",
   "name": "python",
   "nbconvert_exporter": "python",
   "pygments_lexer": "ipython3",
   "version": "3.6.0"
  }
 },
 "nbformat": 4,
 "nbformat_minor": 2
}
