{
 "cells": [
  {
   "cell_type": "markdown",
   "metadata": {},
   "source": [
    "# 日本の都道府県の人口を読み込みベスト５を記述\n",
    "\n",
    "~~~\n",
    "Excelファイルの仕組み:\n",
    "ブック(book)←複数のシート(sheet)\n",
    "シート(sheet)←行(row)と列(column)の二次元セル(cell)\n",
    "~~~\n"
   ]
  },
  {
   "cell_type": "code",
   "execution_count": 5,
   "metadata": {
    "collapsed": false
   },
   "outputs": [
    {
     "name": "stdout",
     "output_type": "stream",
     "text": [
      "1 鳥取県 588667\n",
      "2 島根県 717397\n",
      "3 高知県 764456\n",
      "4 徳島県 785491\n",
      "5 福井県 806314\n"
     ]
    },
    {
     "name": "stderr",
     "output_type": "stream",
     "text": [
      "/Users/kawashimatakashi/.pyenv/versions/anaconda3-4.3.1/lib/python3.6/site-packages/openpyxl/reader/worksheet.py:307: UserWarning: Unknown extension is not supported and will be removed\n",
      "  warn(msg)\n"
     ]
    }
   ],
   "source": [
    "import openpyxl \n",
    "\n",
    "# Excelファイルを開く --- (※1)\n",
    "filename = \"population.xlsx\"\n",
    "book = openpyxl.load_workbook(filename)\n",
    "\n",
    "# 先頭のシートを得る --- (※2)\n",
    "sheet = book.worksheets[0]\n",
    "\n",
    "# シートの各行を順に得る --- (※3)\n",
    "data = []\n",
    "for row in sheet.rows:\n",
    "    data.append([\n",
    "        row[0].value,\n",
    "        row[2].value\n",
    "    ])\n",
    "\n",
    "# 先頭行は説明なので捨てる\n",
    "del data[0]\n",
    "\n",
    "# データを人口順に並び替える\n",
    "data = sorted(data, key=lambda x:x[1])\n",
    "\n",
    "# ワースト5を表示\n",
    "for i, a in enumerate(data):\n",
    "    if (i >= 5): break\n",
    "    print(i+1, a[0], int(a[1]))"
   ]
  },
  {
   "cell_type": "code",
   "execution_count": null,
   "metadata": {
    "collapsed": true
   },
   "outputs": [],
   "source": []
  }
 ],
 "metadata": {
  "kernelspec": {
   "display_name": "Python 3",
   "language": "python",
   "name": "python3"
  },
  "language_info": {
   "codemirror_mode": {
    "name": "ipython",
    "version": 3
   },
   "file_extension": ".py",
   "mimetype": "text/x-python",
   "name": "python",
   "nbconvert_exporter": "python",
   "pygments_lexer": "ipython3",
   "version": "3.6.0"
  }
 },
 "nbformat": 4,
 "nbformat_minor": 2
}
