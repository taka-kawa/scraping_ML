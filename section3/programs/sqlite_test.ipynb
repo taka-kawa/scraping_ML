{
 "cells": [
  {
   "cell_type": "markdown",
   "metadata": {},
   "source": [
    "# sqliteプログラム\n",
    "## *\n",
    "テーブルの生成とデータの挿入を行うSQL文を一気に実行する。conn.cursor()で、データベースを操作するカーソルを取得した上で、cur.executescript()メソッドを実行する。もし一文ずつ実行する場合は、execute()メソッドを利用できる。ただし、SQLを実行しても、データベースにデータが即時反映されるわけではない。commit()メソッドを実行して初めて反映される。"
   ]
  },
  {
   "cell_type": "code",
   "execution_count": 1,
   "metadata": {
    "collapsed": false
   },
   "outputs": [
    {
     "name": "stdout",
     "output_type": "stream",
     "text": [
      "(1, 'Apple', 800)\n",
      "(2, 'Orange', 780)\n",
      "(3, 'Banana', 430)\n"
     ]
    }
   ],
   "source": [
    "import sqlite3\n",
    "\n",
    "# sqliteのデータベースに接続\n",
    "dbpath = \"test.sqlite\"\n",
    "conn = sqlite3.connect(dbpath)\n",
    "\n",
    "# テーブルを作成し、データを挿入する---*\n",
    "cur = conn.cursor()\n",
    "cur.executescript(\"\"\"\n",
    "/* itemsテーブルがすでにあれば削除する */\n",
    "DROP TABLE IF EXISTS items;\n",
    "\n",
    "/* テーブルの作成 */\n",
    "CREATE TABLE items(\n",
    "    item_id INTEGER PRIMARY KEY,\n",
    "    name TEXT UNIQUE,\n",
    "    price INTEGER\n",
    ");\n",
    "\n",
    "/* データ挿入 */\n",
    "INSERT INTO items(name, price)VALUES('Apple', 800);\n",
    "INSERT INTO items(name, price)VALUES('Orange', 780);\n",
    "INSERT INTO items(name, price)VALUES('Banana', 430);\n",
    "\"\"\")\n",
    "# 上記の操作をデータベースに反映させる\n",
    "conn.commit()\n",
    "\n",
    "# データを抽出する\n",
    "cur = conn.cursor()\n",
    "cur.execute(\"SELECT item_id,name,price FROM items\")\n",
    "item_list = cur.fetchall()\n",
    "# 1行ずつ表示\n",
    "for it in item_list:\n",
    "    print(it)"
   ]
  },
  {
   "cell_type": "markdown",
   "metadata": {},
   "source": [
    "## *\n",
    "execute()メソッドの第二引数?"
   ]
  },
  {
   "cell_type": "code",
   "execution_count": 2,
   "metadata": {
    "collapsed": false
   },
   "outputs": [
    {
     "name": "stdout",
     "output_type": "stream",
     "text": [
      "(1, 'Orange', 520)\n",
      "(3, 'Kiwi', 400)\n"
     ]
    }
   ],
   "source": [
    "import sqlite3\n",
    "\n",
    "# データベースに接続\n",
    "filepath = \"test2.sqlite\"\n",
    "conn = sqlite3.connect(filepath)\n",
    "\n",
    "# テーブルを作成\n",
    "cur = conn.cursor()\n",
    "cur.execute(\"DROP TABLE IF EXISTS items\")\n",
    "cur.execute(\"\"\" CREATE TABLE items (\n",
    "    item_id INTEGER PRIMARY KEY,\n",
    "    name    TEXT,\n",
    "    price   INTEGER)\"\"\")\n",
    "conn.commit()\n",
    "\n",
    "# 単発でデータ挿入\n",
    "cur = conn.cursor()\n",
    "cur.execute(\n",
    "    \"INSERT INTO items (name,price) VALUES (?,?)\",\n",
    "    (\"Orange\", 520))\n",
    "conn.commit()\n",
    "\n",
    "# 連続でデータ挿入\n",
    "cur = conn.cursor()\n",
    "data = [(\"Mango\", 770), (\"Kiwi\", 400), (\"Grape\", 800)]\n",
    "cur.executemany(\n",
    "    \"INSERT INTO items(name,price) VALUES (?,?)\", data)\n",
    "conn.commit()\n",
    "\n",
    "# 400~700円のデータを抽出して表示\n",
    "cur = conn.cursor()\n",
    "price_range = (400, 700)\n",
    "cur.execute(\n",
    "    \"SELECT * FROM items WHERE price>=? AND price<=?\",price_range)\n",
    "fr_list = cur.fetchall()\n",
    "for fr in fr_list:\n",
    "    print(fr)"
   ]
  },
  {
   "cell_type": "code",
   "execution_count": null,
   "metadata": {
    "collapsed": true
   },
   "outputs": [],
   "source": []
  }
 ],
 "metadata": {
  "kernelspec": {
   "display_name": "Python 3",
   "language": "python",
   "name": "python3"
  },
  "language_info": {
   "codemirror_mode": {
    "name": "ipython",
    "version": 3
   },
   "file_extension": ".py",
   "mimetype": "text/x-python",
   "name": "python",
   "nbconvert_exporter": "python",
   "pygments_lexer": "ipython3",
   "version": "3.6.0"
  }
 },
 "nbformat": 4,
 "nbformat_minor": 2
}
