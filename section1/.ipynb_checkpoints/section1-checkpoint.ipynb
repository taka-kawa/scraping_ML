{
 "cells": [
  {
   "cell_type": "markdown",
   "metadata": {},
   "source": [
    "# 1-1 データのダウンロード\n",
    "---\n",
    "[書式] GETリクエストでパラメータを送信する  \n",
    "http://example.com?key1=v1&key2=v2&...  \n",
    "\n",
    "---\n",
    "任意のパラメータをつけてリクエスト送信  \n",
    "znに郵便番号"
   ]
  },
  {
   "cell_type": "code",
   "execution_count": 1,
   "metadata": {
    "collapsed": false
   },
   "outputs": [
    {
     "name": "stdout",
     "output_type": "stream",
     "text": [
      "url= http://api.aoikujira.com/zip/xml/get.php?fmt=xml&zn=2460038\n",
      "<?xml version=\"1.0\" encoding=\"utf-8\" ?>\n",
      "<address result=\"1\">\n",
      "<header>\n",
      "  <result>1</result>\n",
      "  <api>api.aoikujira.com/zip</api>\n",
      "  <version>1.1</version>\n",
      "</header>\n",
      "<value>\n",
      "  <zip>2460038</zip>\n",
      "  <ken>神奈川県</ken>\n",
      "  <shi>横浜市瀬谷区</shi>\n",
      "  <cho>宮沢</cho>\n",
      "  <disp>神奈川県横浜市瀬谷区宮沢</disp>\n",
      "  <kenkana>カナガワケン</kenkana>\n",
      "  <shikana>ヨコハマシセヤク</shikana>\n",
      "  <chokana>ミヤザワ</chokana>\n",
      "</value>\n",
      "</address>\n"
     ]
    }
   ],
   "source": [
    "import urllib.request\n",
    "import urllib.parse\n",
    "\n",
    "API = \"http://api.aoikujira.com/zip/xml/get.php\"\n",
    "\n",
    "values = {'fmt':'xml', 'zn':'2460038'}\n",
    "\n",
    "params = urllib.parse.urlencode(values)\n",
    "\n",
    "# リクエスト用のURL作成\n",
    "url = API+\"?\"+params\n",
    "print(\"url=\", url)\n",
    "\n",
    "# download\n",
    "data = urllib.request.urlopen(url).read()\n",
    "text = data.decode(\"utf-8\")\n",
    "print(text)"
   ]
  },
  {
   "cell_type": "markdown",
   "metadata": {},
   "source": [
    "# 1-2 BeautifulSoupでスクレイピング\n"
   ]
  },
  {
   "cell_type": "code",
   "execution_count": 2,
   "metadata": {
    "collapsed": false
   },
   "outputs": [
    {
     "name": "stdout",
     "output_type": "stream",
     "text": [
      "uta > http://uta.pw\n",
      "oto > http://oto.chu.jp\n"
     ]
    }
   ],
   "source": [
    "from bs4 import BeautifulSoup\n",
    "\n",
    "html = \"\"\"\n",
    "<html><body>\n",
    "    <ul>\n",
    "      <li><a href=\"http://uta.pw\">uta</a></li>\n",
    "      <li><a href=\"http://oto.chu.jp\">oto</a></li>\n",
    "    </ul>\n",
    "</body></html>\n",
    "\"\"\"\n",
    "\n",
    "# htmlを解析\n",
    "soup = BeautifulSoup(html, 'html.parser')\n",
    "\n",
    "# find_all()メソッドで取り出す\n",
    "links = soup.find_all(\"a\")\n",
    "\n",
    "#リンク一覧表示\n",
    "for a in links:\n",
    "    href = a.attrs['href']\n",
    "    text = a.string\n",
    "    print(text, \">\", href)"
   ]
  },
  {
   "cell_type": "code",
   "execution_count": 6,
   "metadata": {
    "collapsed": false
   },
   "outputs": [
    {
     "name": "stdout",
     "output_type": "stream",
     "text": [
      "http://api.aoikujira.com/zip/xml/1500042\n",
      "<?xml version=\"1.0\" encoding=\"utf-8\" ?>\n",
      "<address result=\"1\">\n",
      "<header>\n",
      "<result>1</result>\n",
      "<api>api.aoikujira.com/zip</api>\n",
      "<version>1.1</version>\n",
      "</header>\n",
      "<value>\n",
      "<zip>1500042</zip>\n",
      "<ken>東京都</ken>\n",
      "<shi>渋谷区</shi>\n",
      "<cho>宇田川町</cho>\n",
      "<disp>東京都渋谷区宇田川町</disp>\n",
      "<kenkana>トウキョウト</kenkana>\n",
      "<shikana>シブヤク</shikana>\n",
      "<chokana>ウダガワチョウ</chokana>\n",
      "</value>\n",
      "</address>\n",
      "--------------------------------\n",
      "東京都 渋谷区 宇田川町\n"
     ]
    }
   ],
   "source": [
    "from bs4 import BeautifulSoup\n",
    "import urllib.request as req\n",
    "\n",
    "url = \"http://api.aoikujira.com/zip/xml/1500042\"\n",
    "print(url)\n",
    "# urlopenでデータを取得\n",
    "res = req.urlopen(url)\n",
    "\n",
    "# BeautifulSoupで解析\n",
    "soup = BeautifulSoup(res, \"html.parser\")\n",
    "print(soup)\n",
    "print(\"--------------------------------\")\n",
    "# 任意のデータ取得\n",
    "ken = soup.find(\"ken\").string\n",
    "shi = soup.find(\"shi\").string\n",
    "cho = soup.find(\"cho\").string\n",
    "print(ken, shi, cho)"
   ]
  },
  {
   "cell_type": "markdown",
   "metadata": {},
   "source": [
    "### CSSセレクタを使う\n",
    "|メソッド|解説|\n",
    "|:--|--|\n",
    "|soup.select_one(セレクタ)|CSSセレクタで要素を一つ取り出す|\n",
    "|soup.select(セレクタ)|CSSセレクタで複数要素を取り出しリスト型で返す|"
   ]
  },
  {
   "cell_type": "code",
   "execution_count": 8,
   "metadata": {
    "collapsed": false
   },
   "outputs": [
    {
     "name": "stdout",
     "output_type": "stream",
     "text": [
      "h1 = トルストイの名言\n",
      "li = 汝の心に教えよ、心に学ぶな\n",
      "li = 謙虚な人は誰からも好かれる。\n",
      "li = 強い人々は、いつも気取らない。\n"
     ]
    }
   ],
   "source": [
    "from bs4 import BeautifulSoup\n",
    "# 解析対象となるHTML\n",
    "html = \"\"\"\n",
    "<html><body>\n",
    "<div id=\"meigen\">\n",
    "    <h1>トルストイの名言</h1>\n",
    "    <ul class=\"items\">\n",
    "      <li>汝の心に教えよ、心に学ぶな</li>\n",
    "      <li>謙虚な人は誰からも好かれる。</li>\n",
    "      <li>強い人々は、いつも気取らない。</li>\n",
    "    </ul>\n",
    "</div>\n",
    "</body></html>\n",
    "\"\"\"\n",
    "\n",
    "# HTMLを解析\n",
    "soup = BeautifulSoup(html, 'html.parser')\n",
    "\n",
    "# 必要な部分をCSSクエリで取り出す\n",
    "# タイトル部分を取得\n",
    "h1 = soup.select_one(\"div#meigen > h1\").string\n",
    "print(\"h1 =\", h1)\n",
    "\n",
    "# リスト部分を取得\n",
    "li_list = soup.select(\"div#meigen > ul.items > li\")\n",
    "for li in li_list:\n",
    "    print(\"li =\", li.string)"
   ]
  },
  {
   "cell_type": "markdown",
   "metadata": {},
   "source": [
    "### Yahoo!ファイナンスの為替情報取得"
   ]
  },
  {
   "cell_type": "code",
   "execution_count": 1,
   "metadata": {
    "collapsed": false
   },
   "outputs": [
    {
     "name": "stdout",
     "output_type": "stream",
     "text": [
      "http://stocks.finance.yahoo.co.jp/stocks/detail/?code=usdjpy\n",
      "----------------------------------\n",
      "usd/jpy= 110.350000\n"
     ]
    }
   ],
   "source": [
    "from bs4 import BeautifulSoup\n",
    "import urllib.request as req\n",
    "\n",
    "# 為替情報XML取得\n",
    "url = \"http://stocks.finance.yahoo.co.jp/stocks/detail/?code=usdjpy\"\n",
    "res = req.urlopen(url)\n",
    "print(url)\n",
    "\n",
    "# HTML解析\n",
    "soup = BeautifulSoup(res, \"html.parser\")\n",
    "print(\"----------------------------------\")\n",
    "\n",
    "# 任意のデータ抽出\n",
    "price = soup.select_one(\".stoksPrice\").string\n",
    "print(\"usd/jpy=\", price)"
   ]
  },
  {
   "cell_type": "markdown",
   "metadata": {},
   "source": [
    "# 1-3 CSSセレクタ"
   ]
  },
  {
   "cell_type": "code",
   "execution_count": 2,
   "metadata": {
    "collapsed": false
   },
   "outputs": [
    {
     "name": "stdout",
     "output_type": "stream",
     "text": [
      "http://www.aozora.gr.jp/index_pages/person148.html#sakuhin_list_1\n",
      "----------------------------------\n",
      "イズムの功過\n",
      "一夜\n",
      "永日小品\n",
      "岡本一平著並画『探訪画趣』序\n",
      "思い出す事など\n",
      "カーライル博物館\n",
      "薤露行\n",
      "学者と名誉\n",
      "硝子戸の中\n",
      "元日\n",
      "木下杢太郎『唐草表紙』序\n",
      "教育と文芸\n",
      "京に着ける夕\n",
      "虚子君へ\n",
      "草枕\n",
      "虞美人草\n",
      "ケーベル先生\n",
      "ケーベル先生の告別\n",
      "現代日本の開化\n",
      "行人\n",
      "坑夫\n",
      "こころ\n",
      "『心』広告文\n",
      "『心』自序\n",
      "『心』予告\n",
      "琴のそら音\n",
      "コンラッドの描きたる自然について\n",
      "作物の批評\n",
      "三山居士\n",
      "三四郎\n",
      "『三四郎』予告\n",
      "子規の画\n",
      "子規の画\n",
      "「自然を写す文章」\n",
      "自転車日記\n",
      "写生文\n",
      "趣味の遺伝\n",
      "初秋の一日\n",
      "処女作追懐談\n",
      "人生\n",
      "鈴木三重吉宛書簡―明治三十九年\n",
      "西洋にはない\n",
      "戦争からきた行き違い\n",
      "創作家の態度\n",
      "それから\n",
      "それから\n",
      "『それから』予告\n",
      "高浜虚子著『鶏頭』序\n",
      "田山花袋君に答う\n",
      "「土」に就て\n",
      "『土』に就て\n",
      "艇長の遺書と中佐の詩\n",
      "手紙\n",
      "『伝説の時代』序\n",
      "点頭録\n",
      "『東洋美術図譜』\n",
      "道楽と職業\n",
      "長塚節氏の小説「土」\n",
      "中味と形式\n",
      "二百十日\n",
      "入社の辞\n",
      "猫の広告文\n",
      "野分\n",
      "『煤煙』の序\n",
      "博士問題とマードック先生と余\n",
      "博士問題の成行\n",
      "長谷川君と余\n",
      "彼岸過迄\n",
      "「額の男」を読む\n",
      "文芸委員は何をするか\n",
      "文芸と道徳\n",
      "文芸とヒロイツク\n",
      "文芸の哲学的基礎\n",
      "文芸は男子一生の事業とするに足らざる乎\n",
      "文士の生活\n",
      "文壇の趨勢\n",
      "文鳥\n",
      "変な音\n",
      "変な音\n",
      "僕の昔\n",
      "坊っちゃん\n",
      "マードック先生の『日本歴史』\n",
      "正岡子規\n",
      "幻影の盾\n",
      "満韓ところどころ\n",
      "道草\n",
      "無題\n",
      "明暗\n",
      "明治座の所感を虚子君に問れて\n",
      "模倣と独立\n",
      "門\n",
      "夢十夜\n",
      "余と万年筆\n",
      "予の描かんと欲する作品\n",
      "落第\n",
      "倫敦消息\n",
      "倫敦塔\n",
      "吾輩は猫である\n",
      "吾輩ハ猫デアル\n",
      "『吾輩は猫である』下篇自序\n",
      "『吾輩は猫である』上篇自序\n",
      "『吾輩は猫である』中篇自序\n",
      "私の経過した学生時代\n",
      "私の個人主義\n"
     ]
    }
   ],
   "source": [
    "from bs4 import BeautifulSoup\n",
    "import urllib.request as req\n",
    "\n",
    "# 為替情報XML取得\n",
    "url = \"http://www.aozora.gr.jp/index_pages/person148.html#sakuhin_list_1\"\n",
    "res = req.urlopen(url)\n",
    "print(url)\n",
    "\n",
    "# HTML解析\n",
    "soup = BeautifulSoup(res, \"html.parser\")\n",
    "print(\"----------------------------------\")\n",
    "\n",
    "li_list = soup.select(\"ol > li\")\n",
    "for li in li_list:\n",
    "    a = li.a\n",
    "    if a != None:\n",
    "        name = a.string\n",
    "        href = a.attrs[\"href\"]\n",
    "        print(name)"
   ]
  },
  {
   "cell_type": "markdown",
   "metadata": {},
   "source": [
    "# 1-4 リンク先を丸ごとダウンロード"
   ]
  },
  {
   "cell_type": "code",
   "execution_count": 17,
   "metadata": {
    "collapsed": false
   },
   "outputs": [
    {
     "name": "stdout",
     "output_type": "stream",
     "text": [
      "http://example.com/html/b.html\n",
      "http://example.com/html/sub/b.html\n",
      "http://example.com/b.html\n",
      "http://example.com/img/b.png\n",
      "http://example.com/css/hoge.css\n"
     ]
    }
   ],
   "source": [
    "from urllib.parse import urljoin\n",
    "\n",
    "base = \"http://example.com/html/a.html\"\n",
    "\n",
    "print(urljoin(base, \"b.html\"))\n",
    "print(urljoin(base, \"sub/b.html\"))\n",
    "print(urljoin(base, \"../b.html\"))\n",
    "print(urljoin(base, \"../img/b.png\"))\n",
    "print(urljoin(base, \"../css/hoge.css\"))"
   ]
  }
 ],
 "metadata": {
  "kernelspec": {
   "display_name": "Python 3",
   "language": "python",
   "name": "python3"
  },
  "language_info": {
   "codemirror_mode": {
    "name": "ipython",
    "version": 3
   },
   "file_extension": ".py",
   "mimetype": "text/x-python",
   "name": "python",
   "nbconvert_exporter": "python",
   "pygments_lexer": "ipython3",
   "version": "3.6.0"
  }
 },
 "nbformat": 4,
 "nbformat_minor": 2
}
