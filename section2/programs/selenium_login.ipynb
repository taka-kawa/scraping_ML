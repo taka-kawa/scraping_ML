{
 "cells": [
  {
   "cell_type": "markdown",
   "metadata": {},
   "source": [
    "# 会員制webサイトにログイン\n"
   ]
  },
  {
   "cell_type": "markdown",
   "metadata": {},
   "source": [
    "## ChromeでCSSセレクタの検索\n",
    "command + option + i：開発ツール表示  \n",
    "左上の矢印マーククリック→調べたい要素クリック→右クリック(copy→copy selector)"
   ]
  },
  {
   "cell_type": "code",
   "execution_count": 9,
   "metadata": {
    "collapsed": false
   },
   "outputs": [
    {
     "name": "stdout",
     "output_type": "stream",
     "text": [
      "access login page\n",
      "情報を入力してログインボタンを押しました\n",
      "マイページのURL=  http://uta.pw/sakusibbs/users.php?user_id=32\n",
      "- 夢追い人(びと) by しゅん > http://uta.pw/sakusibbs/post.php?mml_id=292\n",
      "- 今日も明日もJS三昧 by JS-TESTER > http://uta.pw/sakusibbs/post.php?mml_id=161\n",
      "- 眠ってもデバッグ by JS-TESTER > http://uta.pw/sakusibbs/post.php?mml_id=162\n",
      "- プリンとシュークリーム by JS-TESTER > http://uta.pw/sakusibbs/post.php?mml_id=246\n",
      "- 吾輩はテスターである by JS-TESTER > http://uta.pw/sakusibbs/post.php?mml_id=268\n",
      "- 吾輩はテスターである　その２ by JS-TESTER > http://uta.pw/sakusibbs/post.php?mml_id=269\n",
      "- test by JS-TESTER > http://uta.pw/sakusibbs/post.php?mml_id=281\n",
      "- test2 by JS-TESTER > http://uta.pw/sakusibbs/post.php?mml_id=288\n",
      "- 憎しみの果て by JS-TESTER > http://uta.pw/sakusibbs/post.php?mml_id=291\n",
      "- test1 by JS-TESTER > http://uta.pw/sakusibbs/post.php?mml_id=297\n",
      "- 迷路 by しゅん > http://uta.pw/sakusibbs/post.php?mml_id=303\n",
      "- 星めぐりの歌 by 宮澤賢治 > http://uta.pw/sakusibbs/post.php?mml_id=102\n",
      "- ゆうやけ by kun432 > http://uta.pw/sakusibbs/post.php?mml_id=301\n",
      "- おむこサマー by H゛ > http://uta.pw/sakusibbs/post.php?mml_id=144\n",
      "- 危険な試験 by クジラ飛行机 > http://uta.pw/sakusibbs/post.php?mml_id=270\n",
      "- チャイルドスカイ by Homary > http://uta.pw/sakusibbs/post.php?mml_id=296\n",
      "- 取り外す by クジラ飛行机 > http://uta.pw/sakusibbs/post.php?mml_id=272\n",
      "- タッタヒトツノ＋ネガイ by 浄化 > http://uta.pw/sakusibbs/post.php?mml_id=285\n",
      "- RUNandRUN by 浄化 > http://uta.pw/sakusibbs/post.php?mml_id=282\n",
      "- 泡沫恋歌 by 浄化 > http://uta.pw/sakusibbs/post.php?mml_id=290\n",
      "- Dirty by 浄化 > http://uta.pw/sakusibbs/post.php?mml_id=286\n",
      "- オカモッチ by Homary > http://uta.pw/sakusibbs/post.php?mml_id=283\n",
      "- aaaaaaaaaa by tep > http://uta.pw/sakusibbs/post.php?mml_id=289\n",
      "- 時は流れて　身もだえて by しゅん > http://uta.pw/sakusibbs/post.php?mml_id=271\n",
      "- 相模原の兄妹 by 柚媛梁 > http://uta.pw/sakusibbs/post.php?mml_id=275\n",
      "- しあわせのたね by pico > http://uta.pw/sakusibbs/post.php?mml_id=126\n",
      "- なげけとて 月やは物を 思はする かこち顔なる わが涙かな by 百人一首 > http://uta.pw/sakusibbs/post.php?mml_id=86\n",
      "- memo by Homary > http://uta.pw/sakusibbs/post.php?mml_id=267\n",
      "- ほしたちの夜 by しゅん > http://uta.pw/sakusibbs/post.php?mml_id=261\n",
      "- 数え歌 by クジラ飛行机 > http://uta.pw/sakusibbs/post.php?mml_id=245\n"
     ]
    }
   ],
   "source": [
    "from selenium import webdriver\n",
    "\n",
    "USER = \"JS-TESTER\"\n",
    "PASS = \"ipCU12ySxI\"\n",
    "\n",
    "# Chromeのドライバ\n",
    "browser = webdriver.Chrome(executable_path=\"./../../chromedriver\")\n",
    "# 暗黙的な大気を最大３秒行う\n",
    "browser.implicitly_wait(3)\n",
    "\n",
    "# ログインページにアクセス\n",
    "url_login = \"http://uta.pw/sakusibbs/users.php?action=login\"\n",
    "browser.get(url_login)\n",
    "print(\"access login page\")\n",
    "\n",
    "# テキストボックスに文字入力\n",
    "e = browser.find_element_by_id(\"user\")\n",
    "e.clear()\n",
    "e.send_keys(USER)\n",
    "e = browser.find_element_by_id(\"pass\")\n",
    "e.clear()\n",
    "e.send_keys(PASS)\n",
    "\n",
    "# フォーム送信\n",
    "frm = browser.find_element_by_css_selector(\"#loginForm form\")\n",
    "frm.submit()\n",
    "print(\"情報を入力してログインボタンを押しました\")\n",
    "\n",
    "# マイページのURLを得る\n",
    "# a = browser.find_element_by_css_selector(\".islogin a\")\n",
    "a = browser.find_element_by_css_selector(\"#header_menu_linkbar a:nth-child(1)\")\n",
    "url_mypage = a.get_attribute('href')\n",
    "\n",
    "print(\"マイページのURL= \", url_mypage)\n",
    "\n",
    "# マイページ表示\n",
    "browser.get(url_mypage)\n",
    "\n",
    "# お気に入りのタイトルを列挙\n",
    "links = browser.find_elements_by_css_selector(\"#favlist li > a\")\n",
    "for a in links:\n",
    "    href = a.get_attribute('href')\n",
    "    title = a.text\n",
    "    print(\"-\", title, \">\", href)"
   ]
  }
 ],
 "metadata": {
  "kernelspec": {
   "display_name": "Python 3",
   "language": "python",
   "name": "python3"
  },
  "language_info": {
   "codemirror_mode": {
    "name": "ipython",
    "version": 3
   },
   "file_extension": ".py",
   "mimetype": "text/x-python",
   "name": "python",
   "nbconvert_exporter": "python",
   "pygments_lexer": "ipython3",
   "version": "3.6.0"
  }
 },
 "nbformat": 4,
 "nbformat_minor": 2
}
