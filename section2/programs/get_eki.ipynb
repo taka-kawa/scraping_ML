{
 "cells": [
  {
   "cell_type": "markdown",
   "metadata": {},
   "source": [
    "# HTMLからタイトルとURL取得"
   ]
  },
  {
   "cell_type": "code",
   "execution_count": 7,
   "metadata": {
    "collapsed": false
   },
   "outputs": [
    {
     "name": "stdout",
     "output_type": "stream",
     "text": [
      "[<a href=\"%E3%81%82\">あ</a>, <a href=\"%E3%81%84\">い</a>, <a href=\"%E3%81%86-%E3%81%88\">う-え</a>, <a href=\"%E3%81%8A\">お</a>, <a href=\"%E3%81%8B\">か</a>, <a href=\"%E3%81%8D\">き</a>, <a href=\"%E3%81%8F-%E3%81%91\">く-け</a>, <a href=\"%E3%81%93\">こ</a>, <a href=\"%E3%81%95\">さ</a>, <a href=\"%E3%81%97-%E3%81%97%E3%82%82\">し-しも</a>, <a href=\"%E3%81%97%E3%82%84-%E3%81%97%E3%82%93\">しや-しん</a>, <a href=\"%E3%81%99-%E3%81%9D\">す-そ</a>, <a href=\"%E3%81%9F\">た</a>, <a href=\"%E3%81%A1-%E3%81%A6\">ち-て</a>, <a href=\"%E3%81%A8\">と</a>, <a href=\"%E3%81%AA\">な</a>, <a href=\"%E3%81%AB\">に</a>, <a href=\"%E3%81%AC-%E3%81%AE\">ぬ-の</a>, <a href=\"%E3%81%AF\">は</a>, <a href=\"%E3%81%B2\">ひ</a>, <a href=\"%E3%81%B5-%E3%81%BB\">ふ-ほ</a>, <a href=\"%E3%81%BE\">ま</a>, <a href=\"%E3%81%BF\">み</a>, <a href=\"%E3%82%80-%E3%82%82\">む-も</a>, <a href=\"%E3%82%84-%E3%82%8F%E8%A1%8C\">や-わ行</a>]\n",
      "[('あ', '%E3%81%82'), ('い', '%E3%81%84'), ('う-え', '%E3%81%86-%E3%81%88'), ('お', '%E3%81%8A'), ('か', '%E3%81%8B'), ('き', '%E3%81%8D'), ('く-け', '%E3%81%8F-%E3%81%91'), ('こ', '%E3%81%93'), ('さ', '%E3%81%95'), ('し-しも', '%E3%81%97-%E3%81%97%E3%82%82'), ('しや-しん', '%E3%81%97%E3%82%84-%E3%81%97%E3%82%93'), ('す-そ', '%E3%81%99-%E3%81%9D'), ('た', '%E3%81%9F'), ('ち-て', '%E3%81%A1-%E3%81%A6'), ('と', '%E3%81%A8'), ('な', '%E3%81%AA'), ('に', '%E3%81%AB'), ('ぬ-の', '%E3%81%AC-%E3%81%AE'), ('は', '%E3%81%AF'), ('ひ', '%E3%81%B2'), ('ふ-ほ', '%E3%81%B5-%E3%81%BB'), ('ま', '%E3%81%BE'), ('み', '%E3%81%BF'), ('む-も', '%E3%82%80-%E3%82%82'), ('や-わ行', '%E3%82%84-%E3%82%8F%E8%A1%8C')]\n"
     ]
    }
   ],
   "source": [
    "from bs4 import BeautifulSoup\n",
    "\n",
    "# 解析対象となるHTMLを読み込む\n",
    "html = open(\"eki-link.html\", encoding=\"utf-8\").read()\n",
    "\n",
    "# HTMLを解析する\n",
    "soup = BeautifulSoup(html, \"html.parser\")\n",
    "\n",
    "# <a>タグを抽出\n",
    "# <a>タグでhref属性を持つ要素\n",
    "links = soup.select(\"a[href]\")\n",
    "\n",
    "# (タイトル, URL)のリストを作る\n",
    "result = []\n",
    "for a in links:\n",
    "    href = a.attrs[\"href\"]\n",
    "    title = a.string\n",
    "    result.append((title, href))\n",
    "\n",
    "print(result)"
   ]
  },
  {
   "cell_type": "markdown",
   "metadata": {},
   "source": [
    "# URLの一覧を一気にダウンロード\n",
    "urlretrieve()でダウンロード"
   ]
  },
  {
   "cell_type": "code",
   "execution_count": null,
   "metadata": {
    "collapsed": false
   },
   "outputs": [
    {
     "name": "stdout",
     "output_type": "stream",
     "text": [
      "download=http://example.com/%E3%81%82\n",
      "download=http://example.com/%E3%81%84\n",
      "download=http://example.com/%E3%81%86-%E3%81%88\n",
      "download=http://example.com/%E3%81%8A\n",
      "download=http://example.com/%E3%81%8B\n",
      "download=http://example.com/%E3%81%8D\n",
      "download=http://example.com/%E3%81%8F-%E3%81%91\n",
      "download=http://example.com/%E3%81%93\n"
     ]
    }
   ],
   "source": [
    "from urllib.parse import *\n",
    "from urllib.request import *\n",
    "from bs4 import BeautifulSoup\n",
    "import os, os.path, time\n",
    "\n",
    "# リンクを抽出\n",
    "html = open(\"eki-link.html\", encoding=\"utf-8\").read()\n",
    "soup = BeautifulSoup(html, \"html.parser\")\n",
    "links = soup.select(\"a[href]\")\n",
    "result = []\n",
    "for a in links:\n",
    "    href = a.attrs[\"href\"]\n",
    "    title = a.string\n",
    "    result.append((title, href))\n",
    "\n",
    "# リンク先をダウンロード\n",
    "savepath = \"./out_url\"\n",
    "if not os.path.exists(savepath):\n",
    "    os.mkdir(savepath)\n",
    "    for title, url in result:\n",
    "        path = savepath + \"/\" + url + \".html\"\n",
    "        # 相対URLを絶対URLに変換\n",
    "        a_url = urljoin(\"http://example.com\", url)\n",
    "        print(\"download=\" + a_url)\n",
    "        # download\n",
    "#         urlretrieve(a_url, path)\n",
    "        \n",
    "        time.sleep(1)"
   ]
  },
  {
   "cell_type": "code",
   "execution_count": null,
   "metadata": {
    "collapsed": true
   },
   "outputs": [],
   "source": []
  }
 ],
 "metadata": {
  "kernelspec": {
   "display_name": "Python 3",
   "language": "python",
   "name": "python3"
  },
  "language_info": {
   "codemirror_mode": {
    "name": "ipython",
    "version": 3
   },
   "file_extension": ".py",
   "mimetype": "text/x-python",
   "name": "python",
   "nbconvert_exporter": "python",
   "pygments_lexer": "ipython3",
   "version": "3.6.0"
  }
 },
 "nbformat": 4,
 "nbformat_minor": 2
}
