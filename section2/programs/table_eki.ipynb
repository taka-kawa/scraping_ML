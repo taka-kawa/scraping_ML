{
 "cells": [
  {
   "cell_type": "markdown",
   "metadata": {},
   "source": [
    "# <table>タグを解析してCSVファイルとして出力\n",
    "BeautifulSoupを利用してHTMLを解析  \n",
    "<table>タグ直下には行を表す<tr>タグがある"
   ]
  },
  {
   "cell_type": "code",
   "execution_count": 6,
   "metadata": {
    "collapsed": false
   },
   "outputs": [
    {
     "name": "stdout",
     "output_type": "stream",
     "text": [
      "あ,い,う-え,お,か,き,く-け\n",
      "こ,さ,し-しも,しや-しん,す-そ,た,ち-て\n",
      "と,な,に,ぬ-の,は,ひ,\n",
      "ふ-ほ,ま,み,む-も,や-わ行,,\n"
     ]
    }
   ],
   "source": [
    "from bs4 import BeautifulSoup\n",
    "html = open(\"eki-link.html\", encoding=\"utf-8\").read()\n",
    "soup = BeautifulSoup(html, \"html.parser\")\n",
    "\n",
    "# テーブル解析\n",
    "result = []\n",
    "\n",
    "# <table>タグを得る\n",
    "table = soup.select_one(\"table\")\n",
    "\n",
    "# <tr>タグを得る\n",
    "tr_list = table.find_all(\"tr\")\n",
    "for tr in tr_list:\n",
    "    # <td> or <th>タグを得る\n",
    "    result_row = []\n",
    "    td_list = tr.find_all([\"td\", \"th\"])\n",
    "    for td in td_list:\n",
    "        cell = td.get_text()\n",
    "        result_row.append(cell)\n",
    "    result.append(result_row)\n",
    "\n",
    "# リストをCSVファイルとして出力\n",
    "for row in result:\n",
    "    print(\",\".join(row))"
   ]
  },
  {
   "cell_type": "code",
   "execution_count": null,
   "metadata": {
    "collapsed": true
   },
   "outputs": [],
   "source": []
  }
 ],
 "metadata": {
  "kernelspec": {
   "display_name": "Python 3",
   "language": "python",
   "name": "python3"
  },
  "language_info": {
   "codemirror_mode": {
    "name": "ipython",
    "version": 3
   },
   "file_extension": ".py",
   "mimetype": "text/x-python",
   "name": "python",
   "nbconvert_exporter": "python",
   "pygments_lexer": "ipython3",
   "version": "3.6.0"
  }
 },
 "nbformat": 4,
 "nbformat_minor": 2
}
