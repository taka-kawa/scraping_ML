{
 "cells": [
  {
   "cell_type": "markdown",
   "metadata": {},
   "source": [
    "# 作詞掲示板にログインしてお気に入りの詞を取得\n",
    "*1：ログインするためには、ユーザー名やパスワードをログイン用のURLにPOSTする \n",
    "\n",
    "*2：ログインするとトップページが表示され、ページの中に、マイページへのリンクが出現する。そこで、マイページのURLを取得。マイページのリンクは、<span class=\"islogin\">で囲まれているので、「.islogin a」で抽出できる。  \n",
    "\n",
    "*3：マイページのURLが取得できたら、マイページにアクセスする。  \n",
    "\n",
    "*4：お気に入りの詞の一覧を取得して画面に表示  "
   ]
  },
  {
   "cell_type": "code",
   "execution_count": 1,
   "metadata": {
    "collapsed": false
   },
   "outputs": [
    {
     "name": "stdout",
     "output_type": "stream",
     "text": [
      "マイページ= http://uta.pw/sakusibbs/users.php?user_id=32\n",
      "- 今日も明日もJS三昧 by JS-TESTER > post.php?mml_id=161\n",
      "- 眠ってもデバッグ by JS-TESTER > post.php?mml_id=162\n",
      "- プリンとシュークリーム by JS-TESTER > post.php?mml_id=246\n",
      "- 吾輩はテスターである by JS-TESTER > post.php?mml_id=268\n",
      "- 吾輩はテスターである　その２ by JS-TESTER > post.php?mml_id=269\n",
      "- test by JS-TESTER > post.php?mml_id=281\n",
      "- test2 by JS-TESTER > post.php?mml_id=288\n",
      "- 憎しみの果て by JS-TESTER > post.php?mml_id=291\n",
      "- test1 by JS-TESTER > post.php?mml_id=297\n",
      "- 迷路 by しゅん > post.php?mml_id=303\n",
      "- 星めぐりの歌 by 宮澤賢治 > post.php?mml_id=102\n",
      "- ゆうやけ by kun432 > post.php?mml_id=301\n",
      "- おむこサマー by H゛ > post.php?mml_id=144\n",
      "- 危険な試験 by クジラ飛行机 > post.php?mml_id=270\n",
      "- チャイルドスカイ by Homary > post.php?mml_id=296\n",
      "- 取り外す by クジラ飛行机 > post.php?mml_id=272\n",
      "- タッタヒトツノ＋ネガイ by 浄化 > post.php?mml_id=285\n",
      "- RUNandRUN by 浄化 > post.php?mml_id=282\n",
      "- 泡沫恋歌 by 浄化 > post.php?mml_id=290\n",
      "- Dirty by 浄化 > post.php?mml_id=286\n",
      "- オカモッチ by Homary > post.php?mml_id=283\n",
      "- aaaaaaaaaa by tep > post.php?mml_id=289\n",
      "- 時は流れて　身もだえて by しゅん > post.php?mml_id=271\n",
      "- 相模原の兄妹 by 柚媛梁 > post.php?mml_id=275\n",
      "- しあわせのたね by pico > post.php?mml_id=126\n",
      "- なげけとて 月やは物を 思はする かこち顔なる わが涙かな by 百人一首 > post.php?mml_id=86\n",
      "- memo by Homary > post.php?mml_id=267\n",
      "- ほしたちの夜 by しゅん > post.php?mml_id=261\n",
      "- 数え歌 by クジラ飛行机 > post.php?mml_id=245\n"
     ]
    }
   ],
   "source": [
    "import requests\n",
    "from bs4 import BeautifulSoup\n",
    "from urllib.parse import urljoin\n",
    "\n",
    "# ユーザー名とパスワードの指定\n",
    "USER = \"JS-TESTER\"\n",
    "PASS = \"ipCU12ySxI\"\n",
    "\n",
    "# セッション開始\n",
    "session = requests.session()\n",
    "\n",
    "# login *1\n",
    "login_info = {\n",
    "    \"username_mmlbbs6\":USER, # ユーザー名指定\n",
    "    \"password_mmlbbs6\":PASS, # パスワード指定\n",
    "    \"back\":\"index.php\", # ログイン時に指定する値\n",
    "    \"mml_id\":\"0\" # ログイン時に指定する値\n",
    "}\n",
    "url_login = \"http://uta.pw/sakusibbs/users.php?action=login&m=try\"\n",
    "res = session.post(url_login, data=login_info)\n",
    "res.raise_for_status() # エラーならここで例外\n",
    "\n",
    "# pick up url of my page *2\n",
    "soup = BeautifulSoup(res.text, \"html.parser\")\n",
    "a = soup.select_one(\".islogin a\")\n",
    "if a is None:\n",
    "    print(\"マイページが取得できませんでした\")\n",
    "    quit()\n",
    "# 相対urlを絶対urlに変換\n",
    "url_mypage = urljoin(url_login, a.attrs[\"href\"])\n",
    "print(\"マイページ=\", url_mypage)\n",
    "\n",
    "# access my page *3\n",
    "res = session.get(url_mypage)\n",
    "res.raise_for_status()\n",
    "\n",
    "# お気に入りの詞のタイトルを列挙 *4\n",
    "soup = BeautifulSoup(res.text, \"html.parser\")\n",
    "links = soup.select(\"#favlist li  > a\")\n",
    "for a in links:\n",
    "    href = a.attrs[\"href\"]\n",
    "    title = a.get_text()\n",
    "    print(\"-\", title, \">\", href)"
   ]
  },
  {
   "cell_type": "code",
   "execution_count": null,
   "metadata": {
    "collapsed": true
   },
   "outputs": [],
   "source": []
  }
 ],
 "metadata": {
  "kernelspec": {
   "display_name": "Python 3",
   "language": "python",
   "name": "python3"
  },
  "language_info": {
   "codemirror_mode": {
    "name": "ipython",
    "version": 3
   },
   "file_extension": ".py",
   "mimetype": "text/x-python",
   "name": "python",
   "nbconvert_exporter": "python",
   "pygments_lexer": "ipython3",
   "version": "3.6.0"
  }
 },
 "nbformat": 4,
 "nbformat_minor": 2
}
