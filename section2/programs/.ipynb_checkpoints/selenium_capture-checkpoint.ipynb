{
 "cells": [
  {
   "cell_type": "markdown",
   "metadata": {},
   "source": [
    "# 画面キャプチャ"
   ]
  },
  {
   "cell_type": "code",
   "execution_count": 8,
   "metadata": {
    "collapsed": false
   },
   "outputs": [],
   "source": [
    "from selenium import webdriver\n",
    "\n",
    "url = \"http://www.aozora.gr.jp/cards/000081/files/46268_23911.html\"\n",
    "\n",
    "# Chromeのドライバを得る\n",
    "browser = webdriver.Chrome(executable_path=\"./../../chromedriver\")\n",
    "# 暗黙的な大気を最大３秒行う\n",
    "browser.implicitly_wait(3)\n",
    "# URLを読み込む\n",
    "browser.get(url)\n",
    "# 画面キャプチャしてファイルに保存\n",
    "browser.save_screenshot(\"Website.png\")\n",
    "# ブラウザー終了\n",
    "browser.quit()"
   ]
  },
  {
   "cell_type": "code",
   "execution_count": null,
   "metadata": {
    "collapsed": true
   },
   "outputs": [],
   "source": []
  }
 ],
 "metadata": {
  "kernelspec": {
   "display_name": "Python 3",
   "language": "python",
   "name": "python3"
  },
  "language_info": {
   "codemirror_mode": {
    "name": "ipython",
    "version": 3
   },
   "file_extension": ".py",
   "mimetype": "text/x-python",
   "name": "python",
   "nbconvert_exporter": "python",
   "pygments_lexer": "ipython3",
   "version": "3.6.0"
  }
 },
 "nbformat": 4,
 "nbformat_minor": 2
}
