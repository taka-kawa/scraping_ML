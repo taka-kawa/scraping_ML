{
 "cells": [
  {
   "cell_type": "markdown",
   "metadata": {},
   "source": [
    "# SNSで特定のユーザーの作品を全部お気に入りする"
   ]
  },
  {
   "cell_type": "code",
   "execution_count": 4,
   "metadata": {
    "collapsed": false
   },
   "outputs": [
    {
     "name": "stdout",
     "output_type": "stream",
     "text": [
      " ログインしました\n",
      "+ 作品の一覧を9件取得しました\n",
      "-  test1\n",
      "| すでにお気に入りでした\n",
      "-  憎しみの果て\n",
      "| すでにお気に入りでした\n",
      "-  test2\n",
      "| すでにお気に入りでした\n",
      "-  test\n",
      "| すでにお気に入りでした\n",
      "-  吾輩はテスターである　その２\n",
      "| すでにお気に入りでした\n",
      "-  吾輩はテスターである\n",
      "| すでにお気に入りでした\n",
      "-  プリンとシュークリーム\n",
      "| すでにお気に入りでした\n",
      "-  眠ってもデバッグ\n",
      "| すでにお気に入りでした\n",
      "-  今日も明日もJS三昧\n",
      "| すでにお気に入りでした\n"
     ]
    }
   ],
   "source": [
    "from selenium import webdriver\n",
    "import time\n",
    "\n",
    "USER = \"JS-TESTER\"\n",
    "PASS = \"ipCU12ySxI\"\n",
    "FAV_USER_ID = 32 # お気に入りをつけるユーザーのID\n",
    "SNS_URL = \"http://uta.pw/sakusibbs/\"\n",
    "\n",
    "# Chromeのドライバを得る\n",
    "browser = webdriver.Chrome(executable_path=\"./../../chromedriver\")\n",
    "browser.implicitly_wait(3)\n",
    "\n",
    "# login\n",
    "url_login = SNS_URL + \"users.php?action=login\"\n",
    "browser.get(url_login)\n",
    "\n",
    "# テキストボックスに文字を入力してフォーム送信する関数\n",
    "def form_post(frm, d):\n",
    "    for field, value in d.items():\n",
    "        e = frm.find_element_by_name(field)\n",
    "        e.clear()\n",
    "        e.send_keys(value)\n",
    "    frm.submit()\n",
    "    \n",
    "# 対象となるフォームを指定\n",
    "frm = browser.find_element_by_css_selector(\"#loginForm form\")\n",
    "#  テキストボックスにデータを指定して送信する\n",
    "form_post(frm, {\n",
    "    \"username_mmlbbs6\":USER,\n",
    "    \"password_mmlbbs6\":PASS})\n",
    "\n",
    "# 本当にログインしたか画像で確認してみる\n",
    "browser.save_screenshot(\"sns-logined.png\")\n",
    "\n",
    "# 本当にログインしたかHTMLで判断してみる --------*\n",
    "e = browser.find_element_by_id(\"bbsheader\")\n",
    "html = e.get_attribute(\"innerHTML\")\n",
    "if html.find(\"action=logout\") < 0:\n",
    "    print(\"ログインできていません\")\n",
    "    quit()\n",
    "print(\" ログインしました\")\n",
    "time.sleep(1)\n",
    "\n",
    "# ユーザーのページを開く\n",
    "url = SNS_URL + \"users.php?user_id=\" + str(FAV_USER_ID)\n",
    "browser.get(url)\n",
    "\n",
    "# 作品一覧を得る\n",
    "sakuhin_list = []\n",
    "links = browser.find_elements_by_css_selector(\"ul#mmlist li a\")\n",
    "for a in links:\n",
    "    href = a.get_attribute('href')\n",
    "    title = a.text\n",
    "    sakuhin_list.append((href, title))\n",
    "print(\"+ 作品の一覧を{0}件取得しました\".format(len(sakuhin_list)))\n",
    "\n",
    "# 一気にお気に入りをつける\n",
    "for href, title in sakuhin_list:\n",
    "    # 作品ページを開く\n",
    "    print(\"- \", title)\n",
    "    browser.get(href)\n",
    "    try:\n",
    "        # お気に入りボタンを得る\n",
    "        e = browser.find_element_by_id(\"fav_add_btn\")\n",
    "        e.click()\n",
    "        print(\"| お気に入り\")\n",
    "        # お気に入りを取り消す場合\n",
    "#         e = browser.find_element_by_id(\"fav_remove_btn\")\n",
    "#         e.click()\n",
    "    except:\n",
    "        # お気に入りボタンがなかった時\n",
    "        print(\"| すでにお気に入りでした\")\n",
    "    # 負荷軽減\n",
    "    time.sleep(1)        "
   ]
  },
  {
   "cell_type": "markdown",
   "metadata": {},
   "source": [
    "## *\n",
    "ログインできた時には、ヘッダー部分のHTMLの中に、ログアウトのためのリンクが表示されるようになっている。そのリンクには\"action=logout\"という文字が含まれるので、これが本当にあるのかどうかでログイン成功を確認する。  \n",
    "また、seleniumで任意のDOM要素の値を取得したい場合、get_attribute()メソッドを使うが、DOMのHTMLを取得するのに「innerHTML」を使える。"
   ]
  },
  {
   "cell_type": "code",
   "execution_count": null,
   "metadata": {
    "collapsed": true
   },
   "outputs": [],
   "source": []
  }
 ],
 "metadata": {
  "kernelspec": {
   "display_name": "Python 3",
   "language": "python",
   "name": "python3"
  },
  "language_info": {
   "codemirror_mode": {
    "name": "ipython",
    "version": 3
   },
   "file_extension": ".py",
   "mimetype": "text/x-python",
   "name": "python",
   "nbconvert_exporter": "python",
   "pygments_lexer": "ipython3",
   "version": "3.6.0"
  }
 },
 "nbformat": 4,
 "nbformat_minor": 2
}
