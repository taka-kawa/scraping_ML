{
 "cells": [
  {
   "cell_type": "markdown",
   "metadata": {},
   "source": [
    "# データごとの分布をグラフにする\n",
    "freqのデータの形\n",
    "\n",
    "~~~\n",
    "freq[0:訓練,1:テスト][freq,label][それぞれの確率]\n",
    "~~~\n",
    "\n",
    "lbl:言語種類  \n",
    "fq:確率(リスト)  \n",
    "chr():文字コードを文字列  \n",
    "asclist:[['a', 'b', 'c', 'd', 'e', 'f', 'g', 'h', 'i', 'j', 'k', 'l', 'm', 'n', 'o', 'p', 'q', 'r', 's', 't', 'u', 'v', 'w', 'x', 'y', 'z']]  \n",
    "plotのkindでグラフの種類  "
   ]
  },
  {
   "cell_type": "code",
   "execution_count": 6,
   "metadata": {
    "collapsed": false
   },
   "outputs": [],
   "source": [
    "import matplotlib.pyplot as plt\n",
    "import pandas as pd\n",
    "import json\n",
    "\n",
    "# アルファベットの出現頻度データを読み込む --- (※1)\n",
    "with open(\"./lang/freq.json\", \"r\", encoding=\"utf-8\") as fp:\n",
    "    freq = json.load(fp)\n",
    "\n",
    "# 言語ごとに集計する --- (※2)\n",
    "lang_dic = {}\n",
    "# アルファベット分回る\n",
    "for i, lbl in enumerate(freq[0][\"labels\"]):\n",
    "    fq = freq[0][\"freqs\"][i]\n",
    "    if not (lbl in lang_dic):\n",
    "        lang_dic[lbl] = fq\n",
    "        continue\n",
    "    for idx, v in enumerate(fq):\n",
    "        lang_dic[lbl][idx] = (lang_dic[lbl][idx] + v) / 2\n",
    "\n",
    "# PandasのDataFrameにデータを入れる --- (※3)\n",
    "asclist = [[chr(n) for n in range(97,97+26)]]\n",
    "df = pd.DataFrame(lang_dic, index=asclist)\n",
    "\n",
    "# プロット --- (※4)\n",
    "plt.style.use('ggplot')\n",
    "df.plot(kind=\"bar\", subplots=True, ylim=(0,0.15))\n",
    "plt.savefig(\"lang-plot.png\")\n",
    "\n"
   ]
  },
  {
   "cell_type": "code",
   "execution_count": null,
   "metadata": {
    "collapsed": true
   },
   "outputs": [],
   "source": []
  }
 ],
 "metadata": {
  "kernelspec": {
   "display_name": "Python 3",
   "language": "python",
   "name": "python3"
  },
  "language_info": {
   "codemirror_mode": {
    "name": "ipython",
    "version": 3
   },
   "file_extension": ".py",
   "mimetype": "text/x-python",
   "name": "python",
   "nbconvert_exporter": "python",
   "pygments_lexer": "ipython3",
   "version": "3.6.0"
  }
 },
 "nbformat": 4,
 "nbformat_minor": 2
}
