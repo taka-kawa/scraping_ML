{
 "cells": [
  {
   "cell_type": "markdown",
   "metadata": {},
   "source": [
    "# 言語判定プログラム\n",
    "[grobの説明](https://docs.python.jp/3/library/glob.html)  \n",
    "\n",
    "ord:1 文字のUnicode文字を表す文字列に対し、その文字のUnicodeコードポイントを表す整数を返す。例えば、ord('a')は整数97を返し、ord('€') (ユーロ記号)は8364を返す。これは chr() の逆。"
   ]
  },
  {
   "cell_type": "code",
   "execution_count": 4,
   "metadata": {
    "collapsed": false
   },
   "outputs": [
    {
     "name": "stdout",
     "output_type": "stream",
     "text": [
      "正解率= 0.875\n",
      "レポート=\n",
      "             precision    recall  f1-score   support\n",
      "\n",
      "         en       0.67      1.00      0.80         2\n",
      "         fr       1.00      1.00      1.00         2\n",
      "         id       1.00      0.50      0.67         2\n",
      "         tl       1.00      1.00      1.00         2\n",
      "\n",
      "avg / total       0.92      0.88      0.87         8\n",
      "\n"
     ]
    }
   ],
   "source": [
    "from sklearn import svm, metrics\n",
    "import glob, os.path, re, json\n",
    "\n",
    "\n",
    "# テキストを読んで出現頻度を調べる --- (※1)\n",
    "def check_freq(fname):\n",
    "    # ファイル名取得\n",
    "    name = os.path.basename(fname)\n",
    "    # ファイル名の最初２文字は言語を表す仕様なのでそれを取得\n",
    "    lang = re.match(r'^[a-z]{2,}', name).group()\n",
    "    with open(fname, \"r\", encoding=\"utf-8\") as f:\n",
    "        text = f.read()\n",
    "    text = text.lower() # 小文字に変換\n",
    "    # カウンタを0に\n",
    "    cnt = [0 for n in range(0, 26)]\n",
    "    code_a = ord(\"a\")\n",
    "    code_z = ord(\"z\")\n",
    "    # アルファベットの出現回数を調べる --- (※2)\n",
    "    for ch in text:\n",
    "        n = ord(ch)\n",
    "        if code_a <= n <= code_z: # a-zの間なら\n",
    "            cnt[n - code_a] += 1\n",
    "    # 正規化する --- (※3)\n",
    "    total = sum(cnt)\n",
    "    freq = list(map(lambda n: n / total, cnt))\n",
    "    return (freq, lang)\n",
    "    \n",
    "# 各ファイルを処理する\n",
    "def load_files(path):\n",
    "    freqs = []\n",
    "    labels = []\n",
    "    # ファイルパス取得\n",
    "    file_list = glob.glob(path)\n",
    "    for fname in file_list:\n",
    "        r = check_freq(fname)\n",
    "        freqs.append(r[0])\n",
    "        labels.append(r[1])\n",
    "    return {\"freqs\":freqs, \"labels\":labels}\n",
    "    \n",
    "data = load_files(\"./lang/train/*.txt\")\n",
    "test = load_files(\"./lang/test/*.txt\")\n",
    "# 今後のためにJSONで結果を保存\n",
    "with open(\"./lang/freq.json\", \"w\", encoding=\"utf-8\") as fp:\n",
    "    json.dump([data, test], fp)\n",
    "\n",
    "# 学習 --- (※4)\n",
    "clf = svm.SVC()\n",
    "clf.fit(data[\"freqs\"], data[\"labels\"])\n",
    "\n",
    "# 予測 --- (※5)\n",
    "predict = clf.predict(test[\"freqs\"])\n",
    "\n",
    "# 結果がどの程度合っていたか確認 --- (※6)\n",
    "ac_score = metrics.accuracy_score(test[\"labels\"], predict)\n",
    "cl_report = metrics.classification_report(test[\"labels\"], predict)\n",
    "print(\"正解率=\", ac_score)\n",
    "print(\"レポート=\")\n",
    "print(cl_report)"
   ]
  },
  {
   "cell_type": "code",
   "execution_count": null,
   "metadata": {
    "collapsed": true
   },
   "outputs": [],
   "source": []
  }
 ],
 "metadata": {
  "kernelspec": {
   "display_name": "Python 3",
   "language": "python",
   "name": "python3"
  },
  "language_info": {
   "codemirror_mode": {
    "name": "ipython",
    "version": 3
   },
   "file_extension": ".py",
   "mimetype": "text/x-python",
   "name": "python",
   "nbconvert_exporter": "python",
   "pygments_lexer": "ipython3",
   "version": "3.6.0"
  }
 },
 "nbformat": 4,
 "nbformat_minor": 2
}
