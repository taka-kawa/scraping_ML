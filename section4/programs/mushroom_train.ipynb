{
 "cells": [
  {
   "cell_type": "markdown",
   "metadata": {},
   "source": [
    "# 毒キノコ分類"
   ]
  },
  {
   "cell_type": "code",
   "execution_count": 8,
   "metadata": {
    "collapsed": false
   },
   "outputs": [
    {
     "name": "stdout",
     "output_type": "stream",
     "text": [
      "正解率= 1.0\n",
      "レポート=\n",
      "              precision    recall  f1-score   support\n",
      "\n",
      "          e       1.00      1.00      1.00      1032\n",
      "          p       1.00      1.00      1.00       999\n",
      "\n",
      "avg / total       1.00      1.00      1.00      2031\n",
      "\n"
     ]
    }
   ],
   "source": [
    "import pandas as pd\n",
    "from sklearn.ensemble import RandomForestClassifier\n",
    "from sklearn import cross_validation, metrics\n",
    "\n",
    "# データ読み込み\n",
    "mr = pd.read_csv(\"mushroom.csv\", header=None)\n",
    "\n",
    "# データ中の記号を数値に変換\n",
    "label = []\n",
    "data = []\n",
    "attr_list = []\n",
    "for row_index, row in mr.iterrows():\n",
    "    label.append(row.ix[0])\n",
    "    row_data = []\n",
    "    for v in row.ix[1:]:\n",
    "        row_data.append(ord(v))\n",
    "    data.append(row_data)\n",
    "    \n",
    "# 学習用とテストデータに分ける\n",
    "data_train, data_test, label_train, label_test = cross_validation.train_test_split(data, label)\n",
    "\n",
    "# データの学習\n",
    "clf = RandomForestClassifier()\n",
    "clf.fit(data_train, label_train)\n",
    "\n",
    "# データを予測\n",
    "predict = clf.predict(data_test)\n",
    "\n",
    "# 合っているか結果を確認\n",
    "ac_score = metrics.accuracy_score(label_test, predict)\n",
    "cl_report = metrics.classification_report(label_test, predict)\n",
    "print(\"正解率=\", ac_score)\n",
    "print(\"レポート=\\n\", cl_report)"
   ]
  },
  {
   "cell_type": "markdown",
   "metadata": {
    "collapsed": true
   },
   "source": [
    "# データを数値に直す際に気をつける"
   ]
  },
  {
   "cell_type": "code",
   "execution_count": 13,
   "metadata": {
    "collapsed": false
   },
   "outputs": [
    {
     "name": "stdout",
     "output_type": "stream",
     "text": [
      "正解率= 1.0\n"
     ]
    }
   ],
   "source": [
    "import pandas as pd\n",
    "from sklearn.ensemble import RandomForestClassifier\n",
    "from sklearn import cross_validation, metrics\n",
    "\n",
    "# データ読み込み\n",
    "mr = pd.read_csv(\"mushroom.csv\", header=None)\n",
    "\n",
    "# データ中の記号を数値に変換\n",
    "label = []\n",
    "data = []\n",
    "attr_list = []\n",
    "for row_index, row in mr.iterrows():\n",
    "    label.append(row.ix[0])\n",
    "    exdata = []\n",
    "    for col, v in enumerate(row.ix[1:]):\n",
    "        # はじめなら作成\n",
    "        if row_index == 0:\n",
    "            attr = {\"dic\": {}, \"cnt\":0}\n",
    "            attr_list.append(attr)\n",
    "        else:\n",
    "            attr = attr_list[col]\n",
    "        # キノコの特徴を表す記号を12列で表す\n",
    "        d = [0,0,0,0,0,0,0,0,0,0,0,0]\n",
    "        if v in attr[\"dic\"]: # 既存文字\n",
    "            # その文字の数字をidxに\n",
    "            idx = attr[\"dic\"][v]\n",
    "        else: #初登場文字\n",
    "            idx = attr[\"cnt\"]\n",
    "            attr[\"dic\"][v] = idx\n",
    "            attr[\"cnt\"] += 1\n",
    "        d[idx] = 1\n",
    "        # dを渡すと最後のだけになるから\n",
    "        exdata += d\n",
    "    data.append(exdata)\n",
    "\n",
    "# 学習とテスト用データに分ける\n",
    "data_train, data_test, label_train, label_test = cross_validation.train_test_split(data, label)\n",
    "# データの学習\n",
    "clf = RandomForestClassifier()\n",
    "clf.fit(data_train, label_train)\n",
    "# データを予測\n",
    "predict = clf.predict(data_test)\n",
    "# 合っているか結果を確認\n",
    "ac_score = metrics.accuracy_score(label_test, predict)\n",
    "print(\"正解率=\", ac_score)"
   ]
  },
  {
   "cell_type": "code",
   "execution_count": null,
   "metadata": {
    "collapsed": true
   },
   "outputs": [],
   "source": []
  }
 ],
 "metadata": {
  "kernelspec": {
   "display_name": "Python 3",
   "language": "python",
   "name": "python3"
  },
  "language_info": {
   "codemirror_mode": {
    "name": "ipython",
    "version": 3
   },
   "file_extension": ".py",
   "mimetype": "text/x-python",
   "name": "python",
   "nbconvert_exporter": "python",
   "pygments_lexer": "ipython3",
   "version": "3.6.0"
  }
 },
 "nbformat": 4,
 "nbformat_minor": 2
}
