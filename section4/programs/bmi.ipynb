{
 "cells": [
  {
   "cell_type": "markdown",
   "metadata": {},
   "source": [
    "# ランダムに２万人のデータを作成"
   ]
  },
  {
   "cell_type": "code",
   "execution_count": 1,
   "metadata": {
    "collapsed": false
   },
   "outputs": [
    {
     "name": "stdout",
     "output_type": "stream",
     "text": [
      "ok {'thin': 6433, 'normal': 5894, 'fat': 7673}\n"
     ]
    }
   ],
   "source": [
    "import random\n",
    "\n",
    "# BMIを計算して体型を返す\n",
    "def calc_bmi(h, w):\n",
    "    bmi = w / (h/100) **2 \n",
    "    if bmi < 18.5:\n",
    "        return \"thin\"\n",
    "    elif bmi < 25:\n",
    "        return \"normal\"\n",
    "    else:\n",
    "        return \"fat\"\n",
    "    \n",
    "# 出力ファイルの準備\n",
    "fp = open(\"bmi.csv\", \"w\", encoding=\"utf-8\")\n",
    "fp.write(\"height,weight,label\\r\\n\")\n",
    "\n",
    "# ランダムなデータを作成\n",
    "cnt = {\"thin\":0, \"normal\":0, \"fat\":0}\n",
    "for i in range(20000):\n",
    "    h = random.randint(120, 200)\n",
    "    w = random.randint(35, 80)\n",
    "    label = calc_bmi(h, w)\n",
    "    cnt[label] += 1\n",
    "    fp.write(\"{0},{1},{2}\\r\\n\".format(h, w, label))\n",
    "fp.close()\n",
    "print(\"ok\", cnt)"
   ]
  },
  {
   "cell_type": "markdown",
   "metadata": {},
   "source": [
    "# SVMで学習"
   ]
  },
  {
   "cell_type": "code",
   "execution_count": 3,
   "metadata": {
    "collapsed": false
   },
   "outputs": [
    {
     "name": "stdout",
     "output_type": "stream",
     "text": [
      "正解率= 0.9864\n",
      "レポート=\n",
      "              precision    recall  f1-score   support\n",
      "\n",
      "        fat       1.00      0.99      0.99      1901\n",
      "     normal       0.96      1.00      0.98      1468\n",
      "       thin       1.00      0.97      0.99      1631\n",
      "\n",
      "avg / total       0.99      0.99      0.99      5000\n",
      "\n"
     ]
    }
   ],
   "source": [
    "from sklearn import cross_validation, svm, metrics\n",
    "import matplotlib.pyplot as plt\n",
    "import pandas as pd\n",
    "\n",
    "# 身長・体重データの読み込み\n",
    "tbl = pd.read_csv(\"bmi.csv\")\n",
    "\n",
    "# カラムをスライスして正規化\n",
    "label = tbl[\"label\"]\n",
    "w = tbl[\"weight\"] / 100\n",
    "h = tbl[\"height\"] / 200\n",
    "wh = pd.concat([w, h], axis=1)\n",
    "\n",
    "# 学習用とテストデータに分ける\n",
    "data_train, data_test, label_train, label_test = cross_validation.train_test_split(wh, label)\n",
    "\n",
    "# データを学習\n",
    "clf = svm.SVC()\n",
    "clf.fit(data_train, label_train)\n",
    "\n",
    "# データを予測\n",
    "predict = clf.predict(data_test)\n",
    "\n",
    "#　合っているか確認\n",
    "ac_score = metrics.accuracy_score(label_test, predict)\n",
    "cl_report = metrics.classification_report(label_test, predict)\n",
    "print(\"正解率=\", ac_score)\n",
    "print(\"レポート=\\n\", cl_report)\n"
   ]
  },
  {
   "cell_type": "markdown",
   "metadata": {},
   "source": [
    "# 描画"
   ]
  },
  {
   "cell_type": "code",
   "execution_count": 5,
   "metadata": {
    "collapsed": false
   },
   "outputs": [
    {
     "data": {
      "image/png": "[encoded data removed]",
      "text/plain": [
       "<matplotlib.figure.Figure at 0x10bab18d0>"
      ]
     },
     "metadata": {},
     "output_type": "display_data"
    }
   ],
   "source": [
    "import matplotlib.pyplot as plt\n",
    "import pandas as pd\n",
    "\n",
    "# PandasでCSVファイルを読む\n",
    "tbl = pd.read_csv(\"bmi.csv\", index_col=2)\n",
    "\n",
    "# 描画を開始する\n",
    "fig = plt.figure()\n",
    "ax = fig.add_subplot(1,1,1)\n",
    "\n",
    "# サブプロット用-指定のラベルを任意の色で描画\n",
    "def scatter(lbl, color):\n",
    "    b = tbl.loc[lbl]\n",
    "    ax.scatter(b[\"weight\"],b[\"height\"], c=color, label=lbl)\n",
    "    \n",
    "scatter(\"fat\", \"red\")\n",
    "scatter(\"normal\", \"yellow\")\n",
    "scatter(\"thin\", \"purple\")\n",
    "\n",
    "ax.legend()\n",
    "plt.savefig(\"bmi-test.png\")\n",
    "plt.show()\n"
   ]
  },
  {
   "cell_type": "code",
   "execution_count": null,
   "metadata": {
    "collapsed": true
   },
   "outputs": [],
   "source": []
  }
 ],
 "metadata": {
  "kernelspec": {
   "display_name": "Python 3",
   "language": "python",
   "name": "python3"
  },
  "language_info": {
   "codemirror_mode": {
    "name": "ipython",
    "version": 3
   },
   "file_extension": ".py",
   "mimetype": "text/x-python",
   "name": "python",
   "nbconvert_exporter": "python",
   "pygments_lexer": "ipython3",
   "version": "3.6.0"
  }
 },
 "nbformat": 4,
 "nbformat_minor": 2
}
