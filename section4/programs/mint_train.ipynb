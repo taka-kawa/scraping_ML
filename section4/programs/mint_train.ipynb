{
 "cells": [
  {
   "cell_type": "markdown",
   "metadata": {},
   "source": [
    "# 画像データの学習\n",
    "データの形\n",
    "\n",
    "~~~\n",
    "答えのラベル, 28x28のピクセルデータ\n",
    "5, 0,0,0,0,0,0,30,80,100,120,0,0,0,0,...\n",
    "~~~\n"
   ]
  },
  {
   "cell_type": "code",
   "execution_count": 2,
   "metadata": {
    "collapsed": false
   },
   "outputs": [
    {
     "name": "stdout",
     "output_type": "stream",
     "text": [
      "正解率= 0.788423153693\n",
      "レポート=\n",
      "             precision    recall  f1-score   support\n",
      "\n",
      "          0       0.87      0.93      0.90        42\n",
      "          1       0.81      1.00      0.89        67\n",
      "          2       0.84      0.69      0.76        55\n",
      "          3       0.87      0.57      0.68        46\n",
      "          4       0.76      0.75      0.75        55\n",
      "          5       0.63      0.80      0.71        50\n",
      "          6       0.97      0.67      0.79        43\n",
      "          7       0.74      0.86      0.79        49\n",
      "          8       0.91      0.72      0.81        40\n",
      "          9       0.71      0.81      0.76        54\n",
      "\n",
      "avg / total       0.80      0.79      0.79       501\n",
      "\n"
     ]
    }
   ],
   "source": [
    "from sklearn import cross_validation, svm, metrics\n",
    "\n",
    "# CSVファイルを読んで学習用データに整形 --- (※1)\n",
    "def load_csv(fname):\n",
    "    labels = []\n",
    "    images = []\n",
    "    with open(fname, \"r\") as f:\n",
    "        for line in f:\n",
    "            cols = line.split(\",\")\n",
    "            # ラベルとピクセルがない\n",
    "            if len(cols) < 2:\n",
    "                continue\n",
    "            labels.append(int(cols.pop(0)))\n",
    "            vals = list(map(lambda n: int(n) / 256, cols))\n",
    "            images.append(vals)\n",
    "    return {\"labels\":labels, \"images\":images}\n",
    "\n",
    "data = load_csv(\"./mnist/train.csv\")\n",
    "test = load_csv(\"./mnist/t10k.csv\")\n",
    "\n",
    "# 学習 --- (※2)\n",
    "clf = svm.SVC()\n",
    "clf.fit(data[\"images\"], data[\"labels\"])\n",
    "\n",
    "# 予測 --- (※3)\n",
    "predict = clf.predict(test[\"images\"])\n",
    "\n",
    "# 結果がどの程度合っていたか確認 --- (※4)\n",
    "ac_score = metrics.accuracy_score(test[\"labels\"], predict)\n",
    "cl_report = metrics.classification_report(test[\"labels\"], predict)\n",
    "print(\"正解率=\", ac_score)\n",
    "print(\"レポート=\")\n",
    "print(cl_report)"
   ]
  },
  {
   "cell_type": "markdown",
   "metadata": {},
   "source": [
    "||真:正|真:負|\n",
    "|---|---|---|\n",
    "|予測:正|TP|FP|\n",
    "|予測:負|FN|TN|\n",
    "\n",
    "## precision 精度\n",
    "正と予測したデータのうち、実際に正であるものの割合\n",
    "\n",
    "## recall 再現率\n",
    "実際に正であるもののうち、正であると予測されたものの結合\n",
    "\n",
    "## fl-score\n",
    "精度と再現率の調和平\n",
    "["
   ]
  },
  {
   "cell_type": "code",
   "execution_count": null,
   "metadata": {
    "collapsed": true
   },
   "outputs": [],
   "source": []
  }
 ],
 "metadata": {
  "kernelspec": {
   "display_name": "Python 3",
   "language": "python",
   "name": "python3"
  },
  "language_info": {
   "codemirror_mode": {
    "name": "ipython",
    "version": 3
   },
   "file_extension": ".py",
   "mimetype": "text/x-python",
   "name": "python",
   "nbconvert_exporter": "python",
   "pygments_lexer": "ipython3",
   "version": "3.6.0"
  }
 },
 "nbformat": 4,
 "nbformat_minor": 2
}
