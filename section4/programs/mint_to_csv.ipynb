{
 "cells": [
  {
   "cell_type": "markdown",
   "metadata": {},
   "source": [
    "# MNISTをCSVに変換\n",
    "[struct](https://docs.python.jp/3/library/struct.html)はバイナリ処理するためのモジュール。開くときは\"r\"ではなく\"br\"で開く。  \n",
    "MNISTのデータベースファイルは、６万枚の画像情報だけを保存した「*-images-idx3-ubyte」とその画像がどの数字を表すのかを保存した「*-labels-idx1-ubyte」のセットで成り立つ。  \n",
    "## *1\n",
    "ヘッダー情報を読む。それぞれデータは[ビッグエンディアン](http://e-words.jp/w/リトルエンディアン.html)になっている。ビッグエンディアンのデータを読み出すには「>」の記号を指定する。マジックナンバーを表す32bitと、画像枚数を表す32bit整数を読み出す。画像データベースでは、続く８バイトに、画像の横ピクセル数と縦ピクセル数の情報が入る。"
   ]
  },
  {
   "cell_type": "code",
   "execution_count": 6,
   "metadata": {
    "collapsed": false
   },
   "outputs": [],
   "source": [
    "import struct\n",
    "\n",
    "def to_csv(name, maxdata):\n",
    "    # ラベルファイルとイメージファイルを開く\n",
    "    lbl_f = open(\"./mnist/\"+name+\"-labels-idx1-ubyte\", \"rb\")\n",
    "    img_f = open(\"./mnist/\"+name+\"-images-idx3-ubyte\", \"rb\")\n",
    "    csv_f = open(\"./mnist/\"+name+\".csv\", \"w\", encoding=\"utf-8\")\n",
    "    # ヘッダ情報を読む --- (※1)\n",
    "    mag, lbl_count = struct.unpack(\">II\", lbl_f.read(8))\n",
    "    mag, img_count = struct.unpack(\">II\", img_f.read(8))\n",
    "    rows, cols = struct.unpack(\">II\", img_f.read(8))\n",
    "    pixels = rows * cols\n",
    "    # 画像データを読んでCSVで保存 --- (※2)\n",
    "    res = []\n",
    "    for idx in range(lbl_count):\n",
    "        if idx > maxdata: break\n",
    "        # バイト数を読み込んで、整数として読み込む\n",
    "        label = struct.unpack(\"B\", lbl_f.read(1))[0]\n",
    "        bdata = img_f.read(pixels)\n",
    "        sdata = list(map(lambda n: str(n), bdata))\n",
    "        csv_f.write(str(label)+\",\")\n",
    "        csv_f.write(\",\".join(sdata)+\"\\r\\n\")\n",
    "        # うまく取り出せたかどうかPGMで保存してテスト -- (*3)\n",
    "        if idx < 10:\n",
    "            s = \"P2 28 28 255\\n\"\n",
    "            s += \" \".join(sdata)\n",
    "            iname = \"./mnist/{0}-{1}-{2}.pgm\".format(name,idx,label)\n",
    "            with open(iname, \"w\", encoding=\"utf-8\") as f:\n",
    "                f.write(s)\n",
    "    csv_f.close()\n",
    "    lbl_f.close()\n",
    "    img_f.close()\n",
    "\n",
    "# 出力件数を指定 --- (※4)\n",
    "# 学習用\n",
    "to_csv(\"train\", 1000)\n",
    "# テスト用\n",
    "to_csv(\"t10k\", 500)"
   ]
  },
  {
   "cell_type": "code",
   "execution_count": null,
   "metadata": {
    "collapsed": true
   },
   "outputs": [],
   "source": []
  }
 ],
 "metadata": {
  "kernelspec": {
   "display_name": "Python 3",
   "language": "python",
   "name": "python3"
  },
  "language_info": {
   "codemirror_mode": {
    "name": "ipython",
    "version": 3
   },
   "file_extension": ".py",
   "mimetype": "text/x-python",
   "name": "python",
   "nbconvert_exporter": "python",
   "pygments_lexer": "ipython3",
   "version": "3.6.0"
  }
 },
 "nbformat": 4,
 "nbformat_minor": 2
}
